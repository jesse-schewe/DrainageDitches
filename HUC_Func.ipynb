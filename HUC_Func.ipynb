{
 "cells": [
  {
   "cell_type": "code",
   "execution_count": 1,
   "id": "60a2d76d-373c-4086-8a0c-67a79ab6891a",
   "metadata": {},
   "outputs": [],
   "source": [
    "##Import libraries\n",
    "import pandas\n",
    "import numpy\n",
    "import geopandas\n",
    "import rasterio\n",
    "import xarray\n",
    "import rioxarray"
   ]
  },
  {
   "cell_type": "markdown",
   "id": "2d74cb8a-892f-4e63-bc2c-b21412af9047",
   "metadata": {},
   "source": [
    "## Read files"
   ]
  },
  {
   "cell_type": "code",
   "execution_count": 2,
   "id": "059fd57e-9ce7-4033-a86e-d084533b3880",
   "metadata": {},
   "outputs": [],
   "source": [
    "##Shapefile with HUC regions\n",
    "regionsfilepath = \"/home/jesse-ubuntu/Documents/DrainageDitches/WBDHU10_MN.shp\"\n",
    "regions = geopandas.read_file(regionsfilepath)\n",
    "\n",
    "##Raster file with terrain data\n",
    "demfilepath = '/home/jesse-ubuntu/Documents/DrainageDitches/N44W094.hgt'\n",
    "dem = rioxarray.open_rasterio(demfilepath).squeeze()"
   ]
  },
  {
   "cell_type": "markdown",
   "id": "657758d0-b3da-4a6b-a91f-f0a7cbf12133",
   "metadata": {},
   "source": [
    "## Reproject to common CRS"
   ]
  },
  {
   "cell_type": "code",
   "execution_count": 3,
   "id": "d2c3374c-cc73-403f-9a27-904e17978ea3",
   "metadata": {},
   "outputs": [],
   "source": [
    "#Raster file already in this CRS\n",
    "regions=regions.to_crs(4326)"
   ]
  },
  {
   "cell_type": "markdown",
   "id": "2e619f46-e2ef-482c-a465-4d6d1dc83b0a",
   "metadata": {},
   "source": [
    "## Clip shapefile to raster size"
   ]
  },
  {
   "cell_type": "code",
   "execution_count": 4,
   "id": "31c0ab21-033c-40e5-8bdd-ae835f06f40e",
   "metadata": {},
   "outputs": [],
   "source": [
    "#Get a subset of the region geodataframe with the raster bounds\n",
    "regions_ss = geopandas.clip(regions, (-94.0, 44.0, -93.0, 45.0), False)"
   ]
  },
  {
   "cell_type": "markdown",
   "id": "19f6b3fe-90f7-4115-8942-1f9503696f00",
   "metadata": {},
   "source": [
    "## Create function that takes a shapefile and raster with the same size and CRS then clips and saves a raster for each shapefile feature"
   ]
  },
  {
   "cell_type": "code",
   "execution_count": 5,
   "id": "36186604-178c-4ce6-b1da-e8c17d847d60",
   "metadata": {},
   "outputs": [],
   "source": [
    "def superclip(gdf, raster):\n",
    "    ##Loop through the rows in the geodataframe(shapefile)\n",
    "    for i in range(len(gdf)):\n",
    "        ##Make a geodataframe for each row\n",
    "        ##I tried without this step by just using gdf.iloc[[i]] in place of rowGdf and rowGdf.iloc[0], but I had some trouble with extra text in the strings\n",
    "        rowGdf = gdf.iloc[[i]]\n",
    "        \n",
    "        ##Clip out each of the shapes\n",
    "        raster_clip = raster.rio.clip(rowGdf.geometry.values, rowGdf.crs, drop=True, invert=False)\n",
    "        \n",
    "        ##I had problems where a rectangle would be created from the clip and everything outside the shape would be super low number for nodata, this should fix that\n",
    "        nodata = raster_clip.rio.nodata\n",
    "        raster_clip = raster_clip.where(raster_clip != nodata)\n",
    "    \n",
    "        ##Get name of watershed and HUC10 number for file name\n",
    "        filepath = r\"/home/jesse-ubuntu/Documents/DrainageDitches/\"+rowGdf.iloc[0]['name']+'_'+rowGdf.iloc[0]['huc10']+'.tif'\n",
    "        ##Save to filepath\n",
    "        raster_clip.rio.to_raster(filepath)"
   ]
  },
  {
   "cell_type": "markdown",
   "id": "f6bb7096-8a93-4f73-8482-1410a793ac2e",
   "metadata": {},
   "source": [
    "## Run the function with your geodataframe and dem!"
   ]
  },
  {
   "cell_type": "code",
   "execution_count": 6,
   "id": "cae247f8-24b2-4fde-b20a-29531af716e2",
   "metadata": {},
   "outputs": [],
   "source": [
    "superclip(regions_ss, dem)"
   ]
  }
 ],
 "metadata": {
  "kernelspec": {
   "display_name": "Python [conda env:general_gis]",
   "language": "python",
   "name": "conda-env-general_gis-py"
  },
  "language_info": {
   "codemirror_mode": {
    "name": "ipython",
    "version": 3
   },
   "file_extension": ".py",
   "mimetype": "text/x-python",
   "name": "python",
   "nbconvert_exporter": "python",
   "pygments_lexer": "ipython3",
   "version": "3.11.7"
  }
 },
 "nbformat": 4,
 "nbformat_minor": 5
}
